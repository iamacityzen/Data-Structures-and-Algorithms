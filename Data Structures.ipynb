{
 "cells": [
  {
   "cell_type": "markdown",
   "metadata": {},
   "source": [
    "# Implementation of Stack using Python"
   ]
  },
  {
   "cell_type": "code",
   "execution_count": null,
   "metadata": {},
   "outputs": [],
   "source": [
    "class Stack:\n",
    "    def __init__(self):\n",
    "        self.stack = []\n",
    "    \n",
    "    def isEmpty(self):\n",
    "        return self.stack == []\n",
    "    \n",
    "    def push(self,data):\n",
    "        self.stack.append(data)\n",
    "        \n",
    "    def pop(self):\n",
    "        data = self.stack[-1]\n",
    "        del self.stack[-1]\n",
    "        return data\n",
    "    \n",
    "    def peek(self):\n",
    "        return self.stack[-1]\n",
    "    \n",
    "    def sizeofstack(self):\n",
    "        return len(self.stack)\n",
    "    \n",
    "\n",
    "       "
   ]
  },
  {
   "cell_type": "code",
   "execution_count": 32,
   "metadata": {},
   "outputs": [],
   "source": [
    "s = Stack()"
   ]
  },
  {
   "cell_type": "code",
   "execution_count": 36,
   "metadata": {},
   "outputs": [],
   "source": [
    "s.push(11)\n",
    "s.push(222)\n",
    "s.push(31)\n",
    "s.push(55)"
   ]
  },
  {
   "cell_type": "code",
   "execution_count": 37,
   "metadata": {},
   "outputs": [
    {
     "data": {
      "text/plain": [
       "55"
      ]
     },
     "execution_count": 37,
     "metadata": {},
     "output_type": "execute_result"
    }
   ],
   "source": [
    "s.peek()"
   ]
  },
  {
   "cell_type": "code",
   "execution_count": 40,
   "metadata": {},
   "outputs": [
    {
     "name": "stdout",
     "output_type": "stream",
     "text": [
      "7\n"
     ]
    }
   ],
   "source": [
    "print(s.sizeofstack())"
   ]
  },
  {
   "cell_type": "code",
   "execution_count": 39,
   "metadata": {},
   "outputs": [
    {
     "data": {
      "text/plain": [
       "55"
      ]
     },
     "execution_count": 39,
     "metadata": {},
     "output_type": "execute_result"
    }
   ],
   "source": [
    "s.pop()"
   ]
  },
  {
   "cell_type": "code",
   "execution_count": 41,
   "metadata": {},
   "outputs": [],
   "source": [
    "s1 = [1,2,3]"
   ]
  },
  {
   "cell_type": "code",
   "execution_count": 43,
   "metadata": {},
   "outputs": [
    {
     "data": {
      "text/plain": [
       "False"
      ]
     },
     "execution_count": 43,
     "metadata": {},
     "output_type": "execute_result"
    }
   ],
   "source": [
    "s.isEmpty()"
   ]
  },
  {
   "cell_type": "markdown",
   "metadata": {},
   "source": [
    "# Implementation of Infix to Postfix expression using Python"
   ]
  },
  {
   "cell_type": "code",
   "execution_count": 1,
   "metadata": {},
   "outputs": [
    {
     "name": "stdout",
     "output_type": "stream",
     "text": [
      "Infix: A*B+C -> Postfix: AB*C+\n",
      "Infix: A+B*C -> Postfix: ABC*+\n",
      "Infix: A*B+C*D -> Postfix: AB*CD*+\n",
      "Infix: A*B^C+D -> Postfix: ABC^*D+\n",
      "Infix: A*(B+C*D)+E -> Postfix: ABCD*+*E+\n",
      "Infix: A+(B*C-(D/E^F)*G)*H -> Postfix: ABC*DEF^/G*-H*+\n",
      "Infix: (A+B)*C+D/(E+F*G)-H -> Postfix: AB+C*DEFG*+/+H-\n",
      "Infix: A-B-C*(D+E/F-G)-H -> Postfix: AB-CDEF/+G-*-H-\n"
     ]
    }
   ],
   "source": [
    "# ~~~~~~~~~~~~~~~~~~~~~~~~~~~~~~~~\n",
    "# Stack class\n",
    "class Stack:\n",
    "    def __init__(self, size):\n",
    "        self.stack = []\n",
    "        self.size = size\n",
    "    \n",
    "    def push(self, item):\n",
    "        if len(self.stack) < self.size:\n",
    "            self.stack.append(item)           \n",
    "\n",
    "    def pop(self):\n",
    "        result = -1\n",
    "\n",
    "        if self.stack != []:\n",
    "            result = self.stack.pop()\n",
    "\n",
    "        return result\n",
    "    \n",
    "    def display(self):\n",
    "        if self.stack == []:\n",
    "            print(\"Stack is empty!\")\n",
    "        else:\n",
    "            print(\"Stack data:\")\n",
    "            for item in reversed(self.stack):\n",
    "                print(item)\n",
    "    \n",
    "    def isEmpty(self):\n",
    "        return self.stack == []\n",
    "    \n",
    "    def topChar(self):\n",
    "        result = -1\n",
    "\n",
    "        if self.stack != []:\n",
    "            result = self.stack[len(self.stack) - 1]\n",
    "\n",
    "        return result\n",
    "\n",
    "# ~~~~~~~~~~~~~~~~~~~~~~~~~~~~~~~~\n",
    "# Aux operations\n",
    "def isOperand(c):\n",
    "    return c >= 'A' and c <= 'Z'\n",
    "\n",
    "operators = \"+-*/^\"\n",
    "\n",
    "def isOperator(c):\n",
    "    return c in operators\n",
    "\n",
    "def getPrecedence(c):\n",
    "    result = 0\n",
    "\n",
    "    for char in operators:\n",
    "        result += 1\n",
    "\n",
    "        if char == c:\n",
    "            if c in '-/':\n",
    "                result -= 1\n",
    "            break\n",
    "\n",
    "    return result\n",
    "\n",
    "# ~~~~~~~~~~~~~~~~~~~~~~~~~~~~~~~~\n",
    "# infix to postfix\n",
    "def toPostfix(expression):\n",
    "    result = \"\"\n",
    "\n",
    "    stack = Stack(15)\n",
    "\n",
    "    for char in expression:\n",
    "        if isOperand(char):\n",
    "            result += char\n",
    "        elif isOperator(char):\n",
    "            while True:\n",
    "                topChar = stack.topChar()\n",
    "\n",
    "                if stack.isEmpty() or topChar == '(':\n",
    "                    stack.push(char)\n",
    "                    break\n",
    "                else:\n",
    "                    pC = getPrecedence(char)\n",
    "                    pTC = getPrecedence(topChar)\n",
    "\n",
    "                    if pC > pTC:\n",
    "                        stack.push(char)\n",
    "                        break\n",
    "                    else:\n",
    "                        result += stack.pop()\n",
    "\n",
    "        elif char == '(':\n",
    "            stack.push(char)\n",
    "        elif char == ')':\n",
    "            cpop = stack.pop()\n",
    "\n",
    "            while cpop != '(':\n",
    "                result += cpop\n",
    "                cpop = stack.pop()\n",
    "\n",
    "    while not stack.isEmpty():\n",
    "        cpop = stack.pop()\n",
    "        result += cpop\n",
    "\n",
    "    return result\n",
    "\n",
    "# ~~~~~~~~~~~~~~~~~~~~~~~~~~~~~~~~\n",
    "# test\n",
    "infixExps = [\n",
    "    'A*B+C',    # AB*C+\n",
    "    'A+B*C',    # ABC*+ \n",
    "    'A*B+C*D',  # AB*CD*+\n",
    "    'A*B^C+D',  # ABC^*D+ \n",
    "    'A*(B+C*D)+E',          # ABCD*+*E+  \n",
    "    'A+(B*C-(D/E^F)*G)*H',  # ABC*DEF^/G*-H*+\n",
    "    '(A+B)*C+D/(E+F*G)-H',  # AB+C*DEFG*+/+H-\n",
    "    'A-B-C*(D+E/F-G)-H'     # AB-CDEF/+G-*-H-\n",
    "]\n",
    "\n",
    "for exp in infixExps:\n",
    "    postfix = toPostfix(exp)\n",
    "    print(f'Infix: {exp} -> Postfix: {postfix}')"
   ]
  },
  {
   "cell_type": "code",
   "execution_count": null,
   "metadata": {},
   "outputs": [],
   "source": []
  }
 ],
 "metadata": {
  "kernelspec": {
   "display_name": "Python 3",
   "language": "python",
   "name": "python3"
  },
  "language_info": {
   "codemirror_mode": {
    "name": "ipython",
    "version": 3
   },
   "file_extension": ".py",
   "mimetype": "text/x-python",
   "name": "python",
   "nbconvert_exporter": "python",
   "pygments_lexer": "ipython3",
   "version": "3.7.6"
  }
 },
 "nbformat": 4,
 "nbformat_minor": 4
}
